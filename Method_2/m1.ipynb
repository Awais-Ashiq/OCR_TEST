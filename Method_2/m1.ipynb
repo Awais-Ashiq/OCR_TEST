{
 "cells": [
  {
   "cell_type": "code",
   "execution_count": 2,
   "metadata": {},
   "outputs": [],
   "source": [
    "# !pip install easyocr"
   ]
  },
  {
   "cell_type": "code",
   "execution_count": 3,
   "metadata": {},
   "outputs": [],
   "source": [
    "import easyocr\n",
    "import os"
   ]
  },
  {
   "cell_type": "code",
   "execution_count": 4,
   "metadata": {},
   "outputs": [
    {
     "name": "stderr",
     "output_type": "stream",
     "text": [
      "CUDA not available - defaulting to CPU. Note: This module is much faster with a GPU.\n"
     ]
    }
   ],
   "source": [
    "get = easyocr.Reader(['en'])"
   ]
  },
  {
   "cell_type": "code",
   "execution_count": 5,
   "metadata": {},
   "outputs": [],
   "source": [
    "images_list=os.listdir(r'../NIC_Images')"
   ]
  },
  {
   "cell_type": "code",
   "execution_count": 6,
   "metadata": {},
   "outputs": [
    {
     "name": "stdout",
     "output_type": "stream",
     "text": [
      "========== crop_0.png  ==========\n",
      "[([[0, 0], [193, 0], [193, 36], [0, 36]], 'Wiltemore', 0.9984232725656448)]\n",
      "========== crop_1.png  ==========\n",
      "[([[0, 0], [195, 0], [195, 22], [0, 22]], 'Creative Supervisor', 0.6965415924721998)]\n",
      "========== crop_2.png  ==========\n",
      "[]\n",
      "========== crop_3.png  ==========\n",
      "[([[0, 0], [84, 0], [84, 18], [0, 18]], '1/22/1989', 0.42188010009098365)]\n",
      "========== crop_4.png  ==========\n",
      "[]\n",
      "========== crop_5.png  ==========\n",
      "[([[1, 0], [71, 0], [71, 18], [1, 18]], '2278469', 0.8574381775232901)]\n",
      "========== crop_6.png  ==========\n",
      "[([[0, 0], [64, 0], [64, 24], [0, 24]], 'Dil9', 0.02235051803290844), ([[78, 0], [141, 0], [141, 24], [78, 24]], '2020', 0.787456214427948)]\n",
      "========== crop_7.png  ==========\n",
      "[([[0, 0], [132, 0], [132, 24], [0, 24]], 'Ann Master', 0.9669868034329387)]\n"
     ]
    }
   ],
   "source": [
    "for img in images_list:\n",
    "    print(f\"========== {i}  ==========\")\n",
    "    output = get.readtext(rf'../NIC_Images/{i}')\n",
    "    print(output)  \n"
   ]
  },
  {
   "cell_type": "code",
   "execution_count": null,
   "metadata": {},
   "outputs": [],
   "source": []
  }
 ],
 "metadata": {
  "interpreter": {
   "hash": "1b10247b51484cdcfafc20154cad46dfa696458da96520fc619d9819c32caf19"
  },
  "kernelspec": {
   "display_name": "Python 3.7.0 64-bit ('venv': venv)",
   "language": "python",
   "name": "python3"
  },
  "language_info": {
   "codemirror_mode": {
    "name": "ipython",
    "version": 3
   },
   "file_extension": ".py",
   "mimetype": "text/x-python",
   "name": "python",
   "nbconvert_exporter": "python",
   "pygments_lexer": "ipython3",
   "version": "3.7.0"
  },
  "orig_nbformat": 4
 },
 "nbformat": 4,
 "nbformat_minor": 2
}
